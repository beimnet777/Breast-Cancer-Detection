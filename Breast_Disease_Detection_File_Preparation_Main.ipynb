{
  "cells": [
    {
      "cell_type": "markdown",
      "metadata": {
        "id": "view-in-github",
        "colab_type": "text"
      },
      "source": [
        "<a href=\"https://colab.research.google.com/github/beimnet777/Breast-Cancer-Detection/blob/main/Breast_Disease_Detection_File_Preparation_Main.ipynb\" target=\"_parent\"><img src=\"https://colab.research.google.com/assets/colab-badge.svg\" alt=\"Open In Colab\"/></a>"
      ]
    },
    {
      "cell_type": "code",
      "execution_count": null,
      "metadata": {
        "id": "kbWh8yZS0zxl"
      },
      "outputs": [],
      "source": [
        "!pip install pydicom"
      ]
    },
    {
      "cell_type": "code",
      "execution_count": null,
      "metadata": {
        "id": "SzOuRcyXz5K9"
      },
      "outputs": [],
      "source": [
        "import pydicom\n",
        "import cv2\n",
        "import tensorflow as tf\n",
        "import os\n",
        "from matplotlib import pyplot as plt\n",
        "from PIL import Image\n",
        "import numpy as np"
      ]
    },
    {
      "cell_type": "code",
      "execution_count": null,
      "metadata": {
        "id": "48Ae57sJsc8M"
      },
      "outputs": [],
      "source": [
        "from google.colab import drive\n",
        "drive.mount('/content/drive')"
      ]
    },
    {
      "cell_type": "code",
      "execution_count": null,
      "metadata": {
        "id": "Qn-PR5xP1axq"
      },
      "outputs": [],
      "source": [
        "from google.colab.patches import cv2_imshow"
      ]
    },
    {
      "cell_type": "code",
      "execution_count": null,
      "metadata": {
        "id": "OZgmRSTGNkl5"
      },
      "outputs": [],
      "source": [
        "def change_mask_to_bw(image):\n",
        "  img = image\n",
        "  (thresh, im_bw) = cv2.threshold(img, 128, 255, cv2.THRESH_BINARY | cv2.THRESH_OTSU)\n",
        "  dilated=cv2.dilate(im_bw,np.ones((3,3)),iterations=4)\n",
        "  return dilated"
      ]
    },
    {
      "cell_type": "code",
      "execution_count": null,
      "metadata": {
        "id": "ajeSb0CNOEjm"
      },
      "outputs": [],
      "source": [
        "def find_contours(mask):\n",
        "  contours, hierarchy = cv2.findContours(\n",
        "      mask, cv2.RETR_TREE, cv2.CHAIN_APPROX_SIMPLE)\n",
        "  x, y, w, h=None,None,None,None\n",
        "  area=0\n",
        "  for index,cnt in enumerate(contours):\n",
        "    x_, y_, w_, h_ = cv2.boundingRect(cnt)\n",
        "    new_area=abs(w_*h_)\n",
        "    if new_area>area:\n",
        "      area=new_area\n",
        "      x, y, w, h=x_, y_, w_, h_\n",
        "  return (w,h,x,y)"
      ]
    },
    {
      "cell_type": "code",
      "execution_count": null,
      "metadata": {
        "id": "0lVdfd4dNUbD"
      },
      "outputs": [],
      "source": [
        "def crop_image_(image,mask):\n",
        "  # print(image.shape,mask.shape)\n",
        "  \n",
        "  bw_image=change_mask_to_bw(image)\n",
        "  \n",
        "  (w,h,x,y)=find_contours(bw_image)\n",
        "\n",
        "  cropped_image = image[y:y+h, x:x+w]\n",
        "  cropped_mask=mask[y:y+h, x:x+w]\n",
        "\n",
        "  # print(cropped_image.shape)\n",
        "  # cv2_imshow(cropped_image)\n",
        "  # cv2_imshow(cropped_mask)\n",
        "  return cropped_image,cropped_mask\n"
      ]
    },
    {
      "cell_type": "code",
      "execution_count": null,
      "metadata": {
        "id": "Ou2LOCBG-q04"
      },
      "outputs": [],
      "source": [
        "def mask_preparation(image,lower_red1, upper_red1,lower_red2, upper_red2):\n",
        "  hsv = cv2.cvtColor(image, cv2.COLOR_BGR2HSV)\n",
        "\n",
        "  mask1 = cv2.inRange(hsv, lower_red1, upper_red1)\n",
        "  mask2 = cv2.inRange(hsv, lower_red2, upper_red2)\n",
        "\n",
        "  mask = mask1 + mask2\n",
        "\n",
        "  image[mask > 0] = [255, 255, 255]\n",
        "\n",
        "  image[mask == 0] = [0, 0, 0]\n",
        "\n",
        "  # gray_image = cv2.cvtColor(image, cv2.COLOR_BGR2GRAY)\n",
        "\n",
        "  return image"
      ]
    },
    {
      "cell_type": "code",
      "execution_count": null,
      "metadata": {
        "id": "Ft3gZCq-GFPK"
      },
      "outputs": [],
      "source": [
        "def get_medical_image(path):\n",
        "  \n",
        "  ds = pydicom.dcmread(path)\n",
        "\n",
        "  pixel_data = ds.pixel_array\n",
        "\n",
        "  pixel_data = (pixel_data - pixel_data.min()) / (pixel_data.max() - pixel_data.min())\n",
        "  pixel_data = (pixel_data * 255).astype('uint8')\n",
        "\n",
        "\n",
        "  return pixel_data"
      ]
    },
    {
      "cell_type": "code",
      "execution_count": null,
      "metadata": {
        "id": "6kqNsgjAY9GE"
      },
      "outputs": [],
      "source": [
        "def remove_texts(image):\n",
        "\n",
        "\n",
        "\n",
        "  _, mask = cv2.threshold(image, 240, 255, cv2.THRESH_BINARY)\n",
        "\n",
        "\n",
        "  kernel = cv2.getStructuringElement(cv2.MORPH_RECT, (3, 3))\n",
        "  mask = cv2.dilate(mask, kernel)\n",
        "\n",
        "\n",
        "  image[mask == 255] = 0\n",
        "  return image\n"
      ]
    },
    {
      "cell_type": "code",
      "execution_count": null,
      "metadata": {
        "id": "QFtNsP2otG46"
      },
      "outputs": [],
      "source": [
        "from glob import glob"
      ]
    },
    {
      "cell_type": "code",
      "execution_count": null,
      "metadata": {
        "id": "1uzvbpzStGXC"
      },
      "outputs": [],
      "source": [
        "normal_path = '/content/drive/MyDrive/Dataset/Dataset/Normal_cases'\n",
        "normal_paths = []\n",
        "suspicious_path = '/content/drive/MyDrive/Dataset/Dataset/Suspicious_cases'\n",
        "suspicious_paths = []"
      ]
    },
    {
      "cell_type": "code",
      "execution_count": null,
      "metadata": {
        "id": "1zg3Xq4Bdlau"
      },
      "outputs": [],
      "source": [
        "dirs = next(os.walk(normal_path))[1]\n",
        "for dir in dirs:\n",
        "    paths = glob(os.path.join(normal_path,dir,\"*.dcm\"))\n",
        "    normal_paths.extend(paths)\n",
        "\n",
        "dirs = next(os.walk(suspicious_path))[1]\n",
        "for dir in dirs:\n",
        "    paths = glob(os.path.join(suspicious_path,dir,\"*.dcm\"))\n",
        "    suspicious_paths.extend(paths)\n"
      ]
    },
    {
      "cell_type": "code",
      "execution_count": null,
      "metadata": {
        "id": "RWXmFp9etLyF"
      },
      "outputs": [],
      "source": [
        "def prepare_dataset(paths,file_label,folder):\n",
        "  \n",
        "  for path in paths:\n",
        "    print(folder,path)\n",
        "    image = get_medical_image(path)\n",
        "    mask_path = path.replace('.dcm','_GT.jpg')\n",
        "    if os.path.exists(mask_path):\n",
        "      mask = cv2.imread(mask_path)\n",
        "      image=cv2.resize(image,(mask.shape[1],mask.shape[0]))\n",
        "      image,mask=crop_image_(image,mask)\n",
        "\n",
        "      lower_red1 = np.array([0, 120, 70])\n",
        "      upper_red1 = np.array([10, 255, 255])\n",
        "\n",
        "    \n",
        "      lower_red2 = np.array([170, 120, 70])\n",
        "      upper_red2 = np.array([180, 255, 255])\n",
        "\n",
        "      cv2_imshow(mask)\n",
        "      maks= mask_preparation(mask,lower_red1, upper_red1,lower_red2, upper_red2)\n",
        "      cv2_imshow(mask)\n",
        "\n",
        "      image_name = file_label+path.split('/')[-2]+\"_\"+path.split(\"/\")[-1]\n",
        "      image_name = image_name.replace('.dcm','.jpg')\n",
        "      cv2.imwrite(os.path.join(folder,image_name),image)\n",
        "      mask_name = image_name.replace('.jpg','_mask.jpg')\n",
        "      print(folder,mask_name)\n",
        "      cv2.imwrite(os.path.join(folder,mask_name),mask)\n",
        "\n",
        "    "
      ]
    },
    {
      "cell_type": "code",
      "execution_count": null,
      "metadata": {
        "id": "qAAAgMBuZxvt"
      },
      "outputs": [],
      "source": [
        "prepare_dataset(normal_paths,\"n_\",\"/content/drive/MyDrive/Normal\")"
      ]
    },
    {
      "cell_type": "code",
      "execution_count": null,
      "metadata": {
        "id": "cUWeWYRfZ7aW"
      },
      "outputs": [],
      "source": [
        "prepare_dataset(suspicious_paths,\"s_\",\"/content/drive/MyDrive/Suspicious\")"
      ]
    }
  ],
  "metadata": {
    "accelerator": "TPU",
    "colab": {
      "provenance": [],
      "private_outputs": true,
      "include_colab_link": true
    },
    "gpuClass": "standard",
    "kernelspec": {
      "display_name": "Python 3",
      "name": "python3"
    },
    "language_info": {
      "name": "python"
    }
  },
  "nbformat": 4,
  "nbformat_minor": 0
}