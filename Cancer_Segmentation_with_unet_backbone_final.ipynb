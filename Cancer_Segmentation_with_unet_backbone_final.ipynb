{
  "nbformat": 4,
  "nbformat_minor": 0,
  "metadata": {
    "colab": {
      "provenance": [],
      "include_colab_link": true
    },
    "kernelspec": {
      "name": "python3",
      "display_name": "Python 3"
    },
    "language_info": {
      "name": "python"
    },
    "accelerator": "GPU",
    "gpuClass": "standard"
  },
  "cells": [
    {
      "cell_type": "markdown",
      "metadata": {
        "id": "view-in-github",
        "colab_type": "text"
      },
      "source": [
        "<a href=\"https://colab.research.google.com/github/beimnet777/Breast-Cancer-Detection/blob/main/Cancer_Segmentation_with_unet_backbone_final.ipynb\" target=\"_parent\"><img src=\"https://colab.research.google.com/assets/colab-badge.svg\" alt=\"Open In Colab\"/></a>"
      ]
    },
    {
      "cell_type": "code",
      "source": [
        "import tensorflow as tf\n",
        "import numpy as np\n",
        "import os\n",
        "from matplotlib import pyplot as plt"
      ],
      "metadata": {
        "id": "9rbZammzG0JR"
      },
      "execution_count": null,
      "outputs": []
    },
    {
      "cell_type": "code",
      "source": [
        "os.environ[\"SM_FRAMEWORK\"] = \"tf.keras\""
      ],
      "metadata": {
        "id": "okaL2HoWTWoA"
      },
      "execution_count": null,
      "outputs": []
    },
    {
      "cell_type": "code",
      "source": [
        "!pip install -U -q segmentation-models"
      ],
      "metadata": {
        "id": "HO2Gyfi9TXMl"
      },
      "execution_count": null,
      "outputs": []
    },
    {
      "cell_type": "code",
      "source": [
        "import segmentation_models as sm"
      ],
      "metadata": {
        "id": "MdTA_4Z5TZiR"
      },
      "execution_count": null,
      "outputs": []
    },
    {
      "cell_type": "code",
      "source": [
        "import cv2 as cv"
      ],
      "metadata": {
        "id": "QxQqnHJAdCuR"
      },
      "execution_count": null,
      "outputs": []
    },
    {
      "cell_type": "code",
      "source": [
        "from google.colab.patches import cv2_imshow"
      ],
      "metadata": {
        "id": "9TrWS-s0he7K"
      },
      "execution_count": null,
      "outputs": []
    },
    {
      "cell_type": "code",
      "source": [
        "from google.colab import drive\n",
        "drive.mount('/content/drive')"
      ],
      "metadata": {
        "id": "tgj98wWe1jCJ"
      },
      "execution_count": null,
      "outputs": []
    },
    {
      "cell_type": "code",
      "source": [
        "def resize(image,mask):\n",
        "  image=tf.keras.layers.MaxPooling2D((2,2))(image)\n",
        "  mask=tf.keras.layers.MaxPooling2D((2,2))(mask)\n",
        "  return image,mask\n",
        "  \n"
      ],
      "metadata": {
        "id": "PF_9RArnN1df"
      },
      "execution_count": null,
      "outputs": []
    },
    {
      "cell_type": "code",
      "source": [
        "\n",
        "def prepare_dataset(width,height,path):\n",
        "\n",
        "  for (root ,dirs,files) in os.walk(path):\n",
        "\n",
        "    X=[]\n",
        "    y=[]\n",
        "\n",
        "    for file in files:\n",
        "\n",
        "      \n",
        "      image_name=file.split(\".\")[0]\n",
        "      if image_name.split(\"_\")[-1]!=\"mask\":\n",
        "\n",
        "        mask_name=image_name+\"_mask.jpg\"\n",
        "        image_path=os.path.join(path,file)\n",
        "        mask_path=os.path.join(path,mask_name)\n",
        "\n",
        "        if os.path.exists(mask_path):\n",
        "          mask_image=cv.imread(mask_path)\n",
        "          mask_image = np.amax(mask_image, axis=-1)\n",
        "          # print(mask_image.shape)\n",
        "          # mask_image = cv.cvtColor(mask_image, cv.COLOR_BGR2GRAY)\n",
        "          mask_image//=255\n",
        "          image=cv.imread(image_path)\n",
        "          image=image/255\n",
        "          \n",
        "\n",
        "\n",
        "          mask_image=cv.resize(mask_image, (width, height))\n",
        "          image=cv.resize(image, (width, height))\n",
        "\n",
        "          \n",
        "          # image=np.expand_dims(image,axis=-1)\n",
        "\n",
        "          X.append(image)\n",
        "          y.append(mask_image)\n",
        "    \n",
        "  X=np.array(X).astype(np.float64)\n",
        "  y=np.expand_dims(y,axis=-1)\n",
        "  y=np.array(y).astype(np.float64)\n",
        "  print(y.shape)\n",
        "  X,y=resize(X,y)\n",
        "  return X,y"
      ],
      "metadata": {
        "id": "EFDzueQ7c0E-"
      },
      "execution_count": null,
      "outputs": []
    },
    {
      "cell_type": "code",
      "source": [
        "X,y=prepare_dataset(512,1024,\"/content/drive/MyDrive/Suspicious\")\n"
      ],
      "metadata": {
        "id": "0Y2gHhdF569n"
      },
      "execution_count": null,
      "outputs": []
    },
    {
      "cell_type": "code",
      "source": [
        "n_classes=2\n",
        "activation='sigmoid'\n",
        "\n",
        "dice_loss = sm.losses.DiceLoss() \n",
        "focal_loss = sm.losses.CategoricalFocalLoss()\n",
        "total_loss = dice_loss + (1 * focal_loss)\n",
        "\n",
        "metrics = [sm.metrics.IOUScore(threshold=0.5), sm.metrics.FScore(threshold=0.5)]"
      ],
      "metadata": {
        "id": "JCK1_ZUYTjlp"
      },
      "execution_count": null,
      "outputs": []
    },
    {
      "cell_type": "code",
      "source": [
        "BACKBONE1 = 'resnet34'\n",
        "preprocess_input1 = sm.get_preprocessing(BACKBONE1)\n",
        "X = preprocess_input1(X)\n",
        "\n",
        "model1 = sm.Linknet(BACKBONE1, encoder_weights='imagenet', classes=n_classes, activation=activation,input_shape=(512,256,3))\n",
        "\n",
        "model1.compile(optimizer=\"adam\", loss=total_loss, metrics=metrics)\n",
        "\n",
        "\n",
        "print(model1.summary())"
      ],
      "metadata": {
        "id": "hpm6zCieTobM"
      },
      "execution_count": null,
      "outputs": []
    },
    {
      "cell_type": "code",
      "source": [
        "history = model1.fit(X,y, epochs=200,batch_size=8)"
      ],
      "metadata": {
        "id": "TOtX7BIQkjTh"
      },
      "execution_count": null,
      "outputs": []
    },
    {
      "cell_type": "code",
      "source": [
        "model1.save(\"second.h5\")"
      ],
      "metadata": {
        "id": "vpEvYHN-RN12"
      },
      "execution_count": null,
      "outputs": []
    },
    {
      "cell_type": "code",
      "source": [
        "def create_unet(width,height):\n",
        "  WIDTH=width\n",
        "  HEIGHT=height\n",
        "\n",
        "  input=tf.keras.layers.Input((HEIGHT,WIDTH,1))\n",
        "\n",
        "  \n",
        "  DROP_OUT=0.2\n",
        "\n",
        "  c1=tf.keras.layers.Conv2D(16,3,activation=\"relu\",padding=\"same\")(input)\n",
        "  d1=tf.keras.layers.Dropout(DROP_OUT)(c1)\n",
        "  c2=tf.keras.layers.Conv2D(16,3,activation=\"relu\",padding=\"same\")(d1)\n",
        "  p1=tf.keras.layers.MaxPooling2D((2,2))(c2)\n",
        "\n",
        "  c3=tf.keras.layers.Conv2D(32,3,activation=\"relu\",padding=\"same\")(p1)\n",
        "  d2=tf.keras.layers.Dropout(DROP_OUT)(c3)\n",
        "  c4=tf.keras.layers.Conv2D(32,3,activation=\"relu\",padding=\"same\")(d2)\n",
        "  p2=tf.keras.layers.MaxPooling2D((2,2))(c4)\n",
        "\n",
        "  c5=tf.keras.layers.Conv2D(64,3,activation=\"relu\",padding=\"same\")(p2)\n",
        "  d3=tf.keras.layers.Dropout(DROP_OUT)(c5)\n",
        "  c6=tf.keras.layers.Conv2D(64,3,activation=\"relu\",padding=\"same\")(d3)\n",
        "  p3=tf.keras.layers.MaxPooling2D((2,2))(c6)\n",
        "\n",
        "  c7=tf.keras.layers.Conv2D(128,3,activation=\"relu\",padding=\"same\")(p3)\n",
        "  d4=tf.keras.layers.Dropout(DROP_OUT)(c7)\n",
        "  c8=tf.keras.layers.Conv2D(128,3,activation=\"relu\",padding=\"same\")(d4)\n",
        "  p4=tf.keras.layers.MaxPooling2D((2,2))(c8)\n",
        "\n",
        "  c9=tf.keras.layers.Conv2D(256,3,activation=\"relu\",padding=\"same\")(p4)\n",
        "  d5=tf.keras.layers.Dropout(DROP_OUT)(c9)\n",
        "  c10=tf.keras.layers.Conv2D(256,3,activation=\"relu\",padding=\"same\")(d5)\n",
        "  u5=tf.keras.layers.Conv2DTranspose(128,(2,2),strides=(2,2))(c10)\n",
        "  u5=tf.keras.layers.Concatenate()([u5,c8])\n",
        "\n",
        "\n",
        "\n",
        "  c11=tf.keras.layers.Conv2D(128,3,activation=\"relu\",padding=\"same\")(u5)\n",
        "  d6=tf.keras.layers.Dropout(DROP_OUT)(c11)\n",
        "  c12=tf.keras.layers.Conv2D(128,3,activation=\"relu\",padding=\"same\")(d6)\n",
        "  u6=tf.keras.layers.Conv2DTranspose(64,(2,2),strides=(2,2))(c12)\n",
        "  u6=tf.keras.layers.Concatenate()([u6,c6])\n",
        "\n",
        "  c13=tf.keras.layers.Conv2D(64,3,activation=\"relu\",padding=\"same\")(u6)\n",
        "  d7=tf.keras.layers.Dropout(DROP_OUT)(c13)\n",
        "  c14=tf.keras.layers.Conv2D(64,3,activation=\"relu\",padding=\"same\")(d7)\n",
        "  u7=tf.keras.layers.Conv2DTranspose(32,(2,2),strides=(2,2))(c14)\n",
        "  u7=tf.keras.layers.Concatenate()([u7,c4])\n",
        "\n",
        "  c15=tf.keras.layers.Conv2D(32,3,activation=\"relu\",padding=\"same\")(u7)\n",
        "  d8=tf.keras.layers.Dropout(DROP_OUT)(c15)\n",
        "  c16=tf.keras.layers.Conv2D(32,3,activation=\"relu\",padding=\"same\")(d8)\n",
        "  u8=tf.keras.layers.Conv2DTranspose(16,(2,2),strides=(2,2))(c16)\n",
        "  u8=tf.keras.layers.Concatenate()([u8,c2])\n",
        "\n",
        "  c17=tf.keras.layers.Conv2D(16,3,activation=\"relu\",padding=\"same\")(u8)\n",
        "  d9=tf.keras.layers.Dropout(DROP_OUT)(c17)\n",
        "  c18=tf.keras.layers.Conv2D(16,3,activation=\"relu\",padding=\"same\")(d9)\n",
        "\n",
        "\n",
        "  outputs=tf.keras.layers.Conv1D(1,1,activation=\"sigmoid\")(c18)\n",
        "\n",
        "  model=tf.keras.Model(inputs=[input],outputs=[outputs])\n",
        "  model.summary()\n",
        "  return model"
      ],
      "metadata": {
        "id": "1nOMJZH5eFhk"
      },
      "execution_count": null,
      "outputs": []
    },
    {
      "cell_type": "code",
      "source": [
        "model=create_unet(256,512)"
      ],
      "metadata": {
        "id": "tru2peCXeMed"
      },
      "execution_count": null,
      "outputs": []
    },
    {
      "cell_type": "code",
      "source": [
        "dice_loss = sm.losses.DiceLoss() \n",
        "focal_loss = sm.losses.CategoricalFocalLoss()\n",
        "total_loss = dice_loss + (1 * focal_loss)\n",
        "\n",
        "metrics = [sm.metrics.IOUScore(threshold=0.5), sm.metrics.FScore(threshold=0.5)]\n",
        "model.compile(optimizer=\"adam\", loss=dice_loss, metrics=metrics)\n",
        "# metrics"
      ],
      "metadata": {
        "id": "1pJqjWjEeUQK"
      },
      "execution_count": null,
      "outputs": []
    },
    {
      "cell_type": "code",
      "source": [
        "Prediction=model1.predict(X)"
      ],
      "metadata": {
        "id": "ms9-yI947EP_"
      },
      "execution_count": null,
      "outputs": []
    },
    {
      "cell_type": "code",
      "source": [
        "Prediction[Prediction>=0.5]=1\n",
        "Prediction[Prediction<0.5]=0"
      ],
      "metadata": {
        "id": "Wx4UuWqt_-8n"
      },
      "execution_count": null,
      "outputs": []
    },
    {
      "cell_type": "code",
      "source": [
        "for index,val in enumerate(Prediction):\n",
        "  cv2_imshow(np.max(val,axis=-1)*255)\n",
        "  print(\"^^^^\")\n",
        "  cv2_imshow(np.array(y[index])*255)\n",
        "  print(\"*********************\")"
      ],
      "metadata": {
        "id": "7H41g4ro9px3"
      },
      "execution_count": null,
      "outputs": []
    }
  ]
}